{
  "nbformat": 4,
  "nbformat_minor": 0,
  "metadata": {
    "colab": {
      "provenance": [],
      "gpuType": "T4",
      "authorship_tag": "ABX9TyNRE2eWjIG8jOp1ohmtfZSj",
      "include_colab_link": true
    },
    "kernelspec": {
      "name": "python3",
      "display_name": "Python 3"
    },
    "language_info": {
      "name": "python"
    },
    "accelerator": "GPU"
  },
  "cells": [
    {
      "cell_type": "markdown",
      "metadata": {
        "id": "view-in-github",
        "colab_type": "text"
      },
      "source": [
        "<a href=\"https://colab.research.google.com/github/Vishu31k/IML-Project/blob/main/Iml_assignment_2_.ipynb\" target=\"_parent\"><img src=\"https://colab.research.google.com/assets/colab-badge.svg\" alt=\"Open In Colab\"/></a>"
      ]
    },
    {
      "cell_type": "markdown",
      "source": [
        "Importing Libraries"
      ],
      "metadata": {
        "id": "Vn6fZMy_Tz7j"
      }
    },
    {
      "cell_type": "code",
      "source": [
        "import pandas as pd\n",
        "import numpy as np\n",
        "import shap\n",
        "import matplotlib.pyplot as plt\n",
        "import seaborn as sns\n",
        "from sklearn.model_selection import train_test_split\n",
        "from sklearn.ensemble import RandomForestClassifier\n",
        "from sklearn.metrics import classification_report, confusion_matrix"
      ],
      "metadata": {
        "id": "Z_rGttXrTmIc"
      },
      "execution_count": 1,
      "outputs": []
    },
    {
      "cell_type": "markdown",
      "source": [
        "Load the Dataset"
      ],
      "metadata": {
        "id": "asYjUx4CTn66"
      }
    },
    {
      "cell_type": "code",
      "source": [
        "df = pd.read_csv(\"/content/creditcard.csv\")"
      ],
      "metadata": {
        "id": "kzcQR8WzTmLC"
      },
      "execution_count": 2,
      "outputs": []
    },
    {
      "cell_type": "markdown",
      "source": [
        "Data Overview"
      ],
      "metadata": {
        "id": "ZlujpcfyT-36"
      }
    },
    {
      "cell_type": "code",
      "source": [
        "print(df.info())"
      ],
      "metadata": {
        "colab": {
          "base_uri": "https://localhost:8080/"
        },
        "id": "gup43ihBTmNz",
        "outputId": "4ab7a682-9fce-4e71-9aab-38bd2ac023ab"
      },
      "execution_count": 4,
      "outputs": [
        {
          "output_type": "stream",
          "name": "stdout",
          "text": [
            "<class 'pandas.core.frame.DataFrame'>\n",
            "RangeIndex: 284807 entries, 0 to 284806\n",
            "Data columns (total 31 columns):\n",
            " #   Column  Non-Null Count   Dtype  \n",
            "---  ------  --------------   -----  \n",
            " 0   Time    284807 non-null  float64\n",
            " 1   V1      284807 non-null  float64\n",
            " 2   V2      284807 non-null  float64\n",
            " 3   V3      284807 non-null  float64\n",
            " 4   V4      284807 non-null  float64\n",
            " 5   V5      284807 non-null  float64\n",
            " 6   V6      284807 non-null  float64\n",
            " 7   V7      284807 non-null  float64\n",
            " 8   V8      284807 non-null  float64\n",
            " 9   V9      284807 non-null  float64\n",
            " 10  V10     284807 non-null  float64\n",
            " 11  V11     284807 non-null  float64\n",
            " 12  V12     284807 non-null  float64\n",
            " 13  V13     284807 non-null  float64\n",
            " 14  V14     284807 non-null  float64\n",
            " 15  V15     284807 non-null  float64\n",
            " 16  V16     284807 non-null  float64\n",
            " 17  V17     284807 non-null  float64\n",
            " 18  V18     284807 non-null  float64\n",
            " 19  V19     284807 non-null  float64\n",
            " 20  V20     284807 non-null  float64\n",
            " 21  V21     284807 non-null  float64\n",
            " 22  V22     284807 non-null  float64\n",
            " 23  V23     284807 non-null  float64\n",
            " 24  V24     284807 non-null  float64\n",
            " 25  V25     284807 non-null  float64\n",
            " 26  V26     284807 non-null  float64\n",
            " 27  V27     284807 non-null  float64\n",
            " 28  V28     284807 non-null  float64\n",
            " 29  Amount  284807 non-null  float64\n",
            " 30  Class   284807 non-null  int64  \n",
            "dtypes: float64(30), int64(1)\n",
            "memory usage: 67.4 MB\n",
            "None\n"
          ]
        }
      ]
    },
    {
      "cell_type": "markdown",
      "source": [
        "Check Class Distribution"
      ],
      "metadata": {
        "id": "zbc-YxQbUL7L"
      }
    },
    {
      "cell_type": "code",
      "source": [
        "print(df['Class'].value_counts())"
      ],
      "metadata": {
        "colab": {
          "base_uri": "https://localhost:8080/"
        },
        "id": "dqAaHpOwTmQb",
        "outputId": "20a43307-4026-4ede-d9c4-6995401429f3"
      },
      "execution_count": 5,
      "outputs": [
        {
          "output_type": "stream",
          "name": "stdout",
          "text": [
            "Class\n",
            "0    284315\n",
            "1       492\n",
            "Name: count, dtype: int64\n"
          ]
        }
      ]
    },
    {
      "cell_type": "code",
      "source": [
        "X = df.drop('Class', axis=1)\n",
        "y = df['Class']\n"
      ],
      "metadata": {
        "id": "EDcgHPGXTmTa"
      },
      "execution_count": 6,
      "outputs": []
    },
    {
      "cell_type": "code",
      "source": [
        "# Step 1: Load data\n",
        "df = pd.read_csv(\"/content/creditcard.csv\")\n",
        "\n",
        "# Step 2: Check for missing values\n",
        "print(\"Missing values in each column:\\n\", df.isnull().sum())\n",
        "\n",
        "# Step 3: Impute or drop missing values\n",
        "# Option A: Drop rows with missing values (if very few)\n",
        "df = df.dropna()\n",
        "\n",
        "# Option B (alternative): Fill missing values with column mean (if needed instead of drop)\n",
        "# df = df.fillna(df.mean())\n",
        "\n",
        "# Step 4: Split features and target\n",
        "X = df.drop('Class', axis=1)\n",
        "y = df['Class']\n",
        "\n",
        "# Step 5: Train-Test Split\n",
        "from sklearn.model_selection import train_test_split\n",
        "X_train, X_test, y_train, y_test = train_test_split(X, y, test_size=0.2, stratify=y, random_state=42)\n",
        "\n",
        "# Step 6: Check final shapes\n",
        "print(\"X_train shape:\", X_train.shape)\n",
        "print(\"X_test shape:\", X_test.shape)\n",
        "print(\"y_train shape:\", y_train.shape)\n",
        "print(\"y_test shape:\", y_test.shape)\n"
      ],
      "metadata": {
        "colab": {
          "base_uri": "https://localhost:8080/"
        },
        "id": "JzUZXqENWF96",
        "outputId": "a97f730f-d1f6-43b8-be40-a14e51f145f1"
      },
      "execution_count": 7,
      "outputs": [
        {
          "output_type": "stream",
          "name": "stdout",
          "text": [
            "Missing values in each column:\n",
            " Time      0\n",
            "V1        0\n",
            "V2        0\n",
            "V3        0\n",
            "V4        0\n",
            "V5        0\n",
            "V6        0\n",
            "V7        0\n",
            "V8        0\n",
            "V9        0\n",
            "V10       0\n",
            "V11       0\n",
            "V12       0\n",
            "V13       0\n",
            "V14       0\n",
            "V15       0\n",
            "V16       0\n",
            "V17       0\n",
            "V18       0\n",
            "V19       0\n",
            "V20       0\n",
            "V21       0\n",
            "V22       0\n",
            "V23       0\n",
            "V24       0\n",
            "V25       0\n",
            "V26       0\n",
            "V27       0\n",
            "V28       0\n",
            "Amount    0\n",
            "Class     0\n",
            "dtype: int64\n",
            "X_train shape: (227845, 30)\n",
            "X_test shape: (56962, 30)\n",
            "y_train shape: (227845,)\n",
            "y_test shape: (56962,)\n"
          ]
        }
      ]
    },
    {
      "cell_type": "code",
      "source": [
        "X_train, X_test, y_train, y_test = train_test_split(X, y, test_size=0.2, stratify=y, random_state=42)"
      ],
      "metadata": {
        "id": "pidBLL0sTmV7"
      },
      "execution_count": 8,
      "outputs": []
    },
    {
      "cell_type": "code",
      "source": [
        "print(\"X_train shape:\", X_train.shape)\n",
        "print(\"X_test shape:\", X_test.shape)\n",
        "print(\"y_train shape:\", y_train.shape)\n",
        "print(\"y_test shape:\", y_test.shape)"
      ],
      "metadata": {
        "colab": {
          "base_uri": "https://localhost:8080/"
        },
        "id": "_Le7CLs0TmYj",
        "outputId": "5bd578f0-8548-4959-bbd7-04d3f3c71da5"
      },
      "execution_count": 9,
      "outputs": [
        {
          "output_type": "stream",
          "name": "stdout",
          "text": [
            "X_train shape: (227845, 30)\n",
            "X_test shape: (56962, 30)\n",
            "y_train shape: (227845,)\n",
            "y_test shape: (56962,)\n"
          ]
        }
      ]
    },
    {
      "cell_type": "code",
      "source": [
        "pip install xgboost lightgbm\n"
      ],
      "metadata": {
        "colab": {
          "base_uri": "https://localhost:8080/"
        },
        "id": "05L7WH42TmbT",
        "outputId": "8c8268ab-f0dd-4dbe-fd70-e981d2defa0e"
      },
      "execution_count": 10,
      "outputs": [
        {
          "output_type": "stream",
          "name": "stdout",
          "text": [
            "Requirement already satisfied: xgboost in /usr/local/lib/python3.11/dist-packages (2.1.4)\n",
            "Requirement already satisfied: lightgbm in /usr/local/lib/python3.11/dist-packages (4.5.0)\n",
            "Requirement already satisfied: numpy in /usr/local/lib/python3.11/dist-packages (from xgboost) (2.0.2)\n",
            "Requirement already satisfied: nvidia-nccl-cu12 in /usr/local/lib/python3.11/dist-packages (from xgboost) (2.21.5)\n",
            "Requirement already satisfied: scipy in /usr/local/lib/python3.11/dist-packages (from xgboost) (1.14.1)\n"
          ]
        }
      ]
    },
    {
      "cell_type": "code",
      "source": [
        "import pandas as pd\n",
        "import numpy as np\n",
        "from sklearn.model_selection import train_test_split\n",
        "from sklearn.metrics import classification_report, confusion_matrix, accuracy_score, precision_score, recall_score, f1_score, matthews_corrcoef\n",
        "\n",
        "from sklearn.ensemble import RandomForestClassifier\n",
        "from sklearn.tree import DecisionTreeClassifier\n",
        "from sklearn.neighbors import KNeighborsClassifier\n",
        "from sklearn.naive_bayes import GaussianNB\n",
        "from sklearn.neural_network import MLPClassifier\n",
        "\n",
        "import xgboost as xgb\n",
        "import lightgbm as lgb\n",
        "\n",
        "# Load and split data\n",
        "df = pd.read_csv(\"/content/creditcard.csv\")\n",
        "X = df.drop('Class', axis=1)\n",
        "y = df['Class']\n",
        "X_train, X_test, y_train, y_test = train_test_split(X, y, test_size=0.2, stratify=y, random_state=42)\n",
        "\n",
        "# Define models\n",
        "models = {\n",
        "    \"Random Forest\": RandomForestClassifier(n_estimators=100, random_state=42),\n",
        "    \"Decision Tree\": DecisionTreeClassifier(random_state=42),\n",
        "    \"KNN\": KNeighborsClassifier(),\n",
        "    \"Naive Bayes\": GaussianNB(),\n",
        "    \"MLP (Neural Net)\": MLPClassifier(hidden_layer_sizes=(100,), max_iter=300, random_state=42),\n",
        "    \"XGBoost\": xgb.XGBClassifier(use_label_encoder=False, eval_metric='logloss', random_state=42),\n",
        "    \"LightGBM\": lgb.LGBMClassifier(random_state=42)\n",
        "}\n",
        "\n",
        "# Evaluation function\n",
        "def evaluate_model(name, model):\n",
        "    model.fit(X_train, y_train)\n",
        "    y_pred = model.predict(X_test)\n",
        "\n",
        "    cm = confusion_matrix(y_test, y_pred)\n",
        "    tn, fp, fn, tp = cm.ravel()\n",
        "\n",
        "    acc = accuracy_score(y_test, y_pred)\n",
        "    prec = precision_score(y_test, y_pred)\n",
        "    rec = recall_score(y_test, y_pred)\n",
        "    f1 = f1_score(y_test, y_pred)\n",
        "    mcc = matthews_corrcoef(y_test, y_pred)\n",
        "    tpr = tp / (tp + fn)\n",
        "    tnr = tn / (tn + fp)\n",
        "\n",
        "    print(f\"\\n=== {name} ===\")\n",
        "    print(\"Confusion Matrix:\\n\", cm)\n",
        "    print(f\"Accuracy: {acc:.4f}\")\n",
        "    print(f\"Precision: {prec:.4f}\")\n",
        "    print(f\"Recall (TPR): {tpr:.4f}\")\n",
        "    print(f\"TNR (Specificity): {tnr:.4f}\")\n",
        "    print(f\"F1 Score: {f1:.4f}\")\n",
        "    print(f\"MCC: {mcc:.4f}\")\n",
        "\n",
        "# Loop through models\n",
        "for name, model in models.items():\n",
        "    evaluate_model(name, model)\n"
      ],
      "metadata": {
        "id": "Ue7PMXPnTmeD",
        "colab": {
          "base_uri": "https://localhost:8080/"
        },
        "outputId": "9ea32566-62bf-46ba-80e3-92e75d2f457b"
      },
      "execution_count": 11,
      "outputs": [
        {
          "output_type": "stream",
          "name": "stdout",
          "text": [
            "\n",
            "=== Random Forest ===\n",
            "Confusion Matrix:\n",
            " [[56859     5]\n",
            " [   18    80]]\n",
            "Accuracy: 0.9996\n",
            "Precision: 0.9412\n",
            "Recall (TPR): 0.8163\n",
            "TNR (Specificity): 0.9999\n",
            "F1 Score: 0.8743\n",
            "MCC: 0.8763\n",
            "\n",
            "=== Decision Tree ===\n",
            "Confusion Matrix:\n",
            " [[56840    24]\n",
            " [   25    73]]\n",
            "Accuracy: 0.9991\n",
            "Precision: 0.7526\n",
            "Recall (TPR): 0.7449\n",
            "TNR (Specificity): 0.9996\n",
            "F1 Score: 0.7487\n",
            "MCC: 0.7483\n",
            "\n",
            "=== KNN ===\n",
            "Confusion Matrix:\n",
            " [[56864     0]\n",
            " [   95     3]]\n",
            "Accuracy: 0.9983\n",
            "Precision: 1.0000\n",
            "Recall (TPR): 0.0306\n",
            "TNR (Specificity): 1.0000\n",
            "F1 Score: 0.0594\n",
            "MCC: 0.1748\n",
            "\n",
            "=== Naive Bayes ===\n",
            "Confusion Matrix:\n",
            " [[56457   407]\n",
            " [   33    65]]\n",
            "Accuracy: 0.9923\n",
            "Precision: 0.1377\n",
            "Recall (TPR): 0.6633\n",
            "TNR (Specificity): 0.9928\n",
            "F1 Score: 0.2281\n",
            "MCC: 0.3000\n",
            "\n",
            "=== MLP (Neural Net) ===\n",
            "Confusion Matrix:\n",
            " [[56864     0]\n",
            " [   95     3]]\n",
            "Accuracy: 0.9983\n",
            "Precision: 1.0000\n",
            "Recall (TPR): 0.0306\n",
            "TNR (Specificity): 1.0000\n",
            "F1 Score: 0.0594\n",
            "MCC: 0.1748\n"
          ]
        },
        {
          "output_type": "stream",
          "name": "stderr",
          "text": [
            "/usr/local/lib/python3.11/dist-packages/xgboost/core.py:158: UserWarning: [08:05:07] WARNING: /workspace/src/learner.cc:740: \n",
            "Parameters: { \"use_label_encoder\" } are not used.\n",
            "\n",
            "  warnings.warn(smsg, UserWarning)\n"
          ]
        },
        {
          "output_type": "stream",
          "name": "stdout",
          "text": [
            "\n",
            "=== XGBoost ===\n",
            "Confusion Matrix:\n",
            " [[56857     7]\n",
            " [   19    79]]\n",
            "Accuracy: 0.9995\n",
            "Precision: 0.9186\n",
            "Recall (TPR): 0.8061\n",
            "TNR (Specificity): 0.9999\n",
            "F1 Score: 0.8587\n",
            "MCC: 0.8603\n",
            "[LightGBM] [Info] Number of positive: 394, number of negative: 227451\n",
            "[LightGBM] [Info] Auto-choosing col-wise multi-threading, the overhead of testing was 0.068877 seconds.\n",
            "You can set `force_col_wise=true` to remove the overhead.\n",
            "[LightGBM] [Info] Total Bins 7650\n",
            "[LightGBM] [Info] Number of data points in the train set: 227845, number of used features: 30\n",
            "[LightGBM] [Info] [binary:BoostFromScore]: pavg=0.001729 -> initscore=-6.358339\n",
            "[LightGBM] [Info] Start training from score -6.358339\n",
            "\n",
            "=== LightGBM ===\n",
            "Confusion Matrix:\n",
            " [[56802    62]\n",
            " [   37    61]]\n",
            "Accuracy: 0.9983\n",
            "Precision: 0.4959\n",
            "Recall (TPR): 0.6224\n",
            "TNR (Specificity): 0.9989\n",
            "F1 Score: 0.5520\n",
            "MCC: 0.5548\n"
          ]
        }
      ]
    }
  ]
}